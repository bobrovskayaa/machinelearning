{
 "cells": [
  {
   "cell_type": "markdown",
   "metadata": {},
   "source": [
    "Бобровская Наталия, 491 группа"
   ]
  },
  {
   "cell_type": "markdown",
   "metadata": {},
   "source": [
    "$\\textbf{3 Реализация решающего дерева (опциональная часть)}$"
   ]
  },
  {
   "cell_type": "code",
   "execution_count": 62,
   "metadata": {
    "collapsed": false
   },
   "outputs": [],
   "source": [
    "import numpy as np\n",
    "import pydotplus\n",
    "import matplotlib.pyplot as plt\n",
    "\n",
    "from sklearn import cross_validation, datasets, metrics, neighbors \n",
    "from sklearn.metrics import mean_squared_error"
   ]
  },
  {
   "cell_type": "code",
   "execution_count": 63,
   "metadata": {
    "collapsed": true
   },
   "outputs": [],
   "source": [
    "boston = datasets.load_boston()"
   ]
  },
  {
   "cell_type": "code",
   "execution_count": 64,
   "metadata": {
    "collapsed": false
   },
   "outputs": [
    {
     "name": "stdout",
     "output_type": "stream",
     "text": [
      "['data', 'feature_names', 'DESCR', 'target']\n",
      "['CRIM' 'ZN' 'INDUS' 'CHAS' 'NOX' 'RM' 'AGE' 'DIS' 'RAD' 'TAX' 'PTRATIO'\n",
      " 'B' 'LSTAT']\n",
      "13\n"
     ]
    }
   ],
   "source": [
    "print boston.keys()\n",
    "print boston.feature_names\n",
    "print len(boston.feature_names)"
   ]
  },
  {
   "cell_type": "code",
   "execution_count": 65,
   "metadata": {
    "collapsed": false
   },
   "outputs": [
    {
     "name": "stdout",
     "output_type": "stream",
     "text": [
      "[  6.32000000e-03   1.80000000e+01   2.31000000e+00   0.00000000e+00\n",
      "   5.38000000e-01   6.57500000e+00   6.52000000e+01   4.09000000e+00\n",
      "   1.00000000e+00   2.96000000e+02   1.53000000e+01   3.96900000e+02\n",
      "   4.98000000e+00]\n",
      "13\n"
     ]
    }
   ],
   "source": [
    "print boston.data[0]\n",
    "print len(boston.data[0])"
   ]
  },
  {
   "cell_type": "code",
   "execution_count": 66,
   "metadata": {
    "collapsed": false
   },
   "outputs": [
    {
     "name": "stdout",
     "output_type": "stream",
     "text": [
      "5.0\n",
      "50.0\n"
     ]
    }
   ],
   "source": [
    "print min(boston.target)\n",
    "print max(boston.target)"
   ]
  },
  {
   "cell_type": "markdown",
   "metadata": {},
   "source": [
    "В Бостон содержатся классы от 5.0 до 50.0 с шагом 0.1, считаем, что их 450"
   ]
  },
  {
   "cell_type": "code",
   "execution_count": 67,
   "metadata": {
    "collapsed": false
   },
   "outputs": [
    {
     "name": "stdout",
     "output_type": "stream",
     "text": [
      "0.25\n",
      "0.75\n",
      "13\n"
     ]
    }
   ],
   "source": [
    "#Оставьте последние 25% объектов для контроля качества, разделив X и y на X_train, y_train и X_test, y_test.\n",
    "#I give them more convinient names\n",
    "\n",
    "train_data, test_data, train_y, test_y = cross_validation.train_test_split(boston.data, boston.target, \n",
    "                                                                                     test_size = 0.25, random_state = 1)\n",
    "print '{:.2f}'.format(float(len(test_data))/len(boston.data))\n",
    "print '{:.2f}'.format(float(len(train_data))/len(boston.data))\n",
    "amount_features = len(boston.feature_names)\n",
    "print amount_features"
   ]
  },
  {
   "cell_type": "code",
   "execution_count": 68,
   "metadata": {
    "collapsed": false,
    "scrolled": true
   },
   "outputs": [
    {
     "name": "stdout",
     "output_type": "stream",
     "text": [
      "[  4.52700000e-02   0.00000000e+00   1.19300000e+01   0.00000000e+00\n",
      "   5.73000000e-01   6.12000000e+00   7.67000000e+01   2.28750000e+00\n",
      "   1.00000000e+00   2.73000000e+02   2.10000000e+01   3.96900000e+02\n",
      "   9.08000000e+00]\n",
      "379\n"
     ]
    }
   ],
   "source": [
    "print(train_data[0])\n",
    "print len(train_data)"
   ]
  },
  {
   "cell_type": "code",
   "execution_count": 69,
   "metadata": {
    "collapsed": false,
    "scrolled": true
   },
   "outputs": [
    {
     "name": "stdout",
     "output_type": "stream",
     "text": [
      "[0.045269999999999998, 0.0, 11.93, 0.0, 0.57299999999999995, 6.1200000000000001, 76.700000000000003, 2.2875000000000001, 1.0, 273.0, 21.0, 396.89999999999998, 9.0800000000000001]\n"
     ]
    }
   ],
   "source": [
    "print [train_data[0][i] for i in range(len(train_data[0]))]"
   ]
  },
  {
   "cell_type": "code",
   "execution_count": 70,
   "metadata": {
    "collapsed": false
   },
   "outputs": [
    {
     "name": "stdout",
     "output_type": "stream",
     "text": [
      "379\n",
      "379\n",
      "379\n"
     ]
    }
   ],
   "source": [
    "column = [train_data[i][0] for i in range(len(train_data))]\n",
    "print(len(column))\n",
    "print(len(train_y))\n",
    "print(len(train_data))"
   ]
  },
  {
   "cell_type": "code",
   "execution_count": 71,
   "metadata": {
    "collapsed": false
   },
   "outputs": [
    {
     "data": {
      "text/plain": [
       "1"
      ]
     },
     "execution_count": 71,
     "metadata": {},
     "output_type": "execute_result"
    }
   ],
   "source": [
    "class G_class():\n",
    "    def __init__(self, G, j, t):\n",
    "        self.G = G\n",
    "        self.j = j\n",
    "        self.t = t\n",
    "        \n",
    "h = G_class(1,2,3)\n",
    "h.G"
   ]
  },
  {
   "cell_type": "code",
   "execution_count": 72,
   "metadata": {
    "collapsed": false
   },
   "outputs": [],
   "source": [
    "MAX = 100000.\n",
    "\n",
    "#the minimum search for the first element\n",
    "#current_G is array of G_class\n",
    "def min_G(current_G):\n",
    "    current_minimum = G_class(MAX, 0., 0.)\n",
    "    for j in range(len(current_G)):\n",
    "        if (current_G[j].G < current_minimum.G):\n",
    "            current_minimum.G = current_G[j].G\n",
    "            current_minimum.j = current_G[j].j\n",
    "            current_minimum.t = current_G[j].t\n",
    "    return current_minimum"
   ]
  },
  {
   "cell_type": "code",
   "execution_count": 73,
   "metadata": {
    "collapsed": true
   },
   "outputs": [],
   "source": [
    "def func_mse(y_true, y_pred):\n",
    "    return np.mean((y_true - y_pred)**2)"
   ]
  },
  {
   "cell_type": "code",
   "execution_count": 77,
   "metadata": {
    "collapsed": false
   },
   "outputs": [
    {
     "name": "stdout",
     "output_type": "stream",
     "text": [
      "66.2469336736\n",
      "0\n",
      "2\n"
     ]
    }
   ],
   "source": [
    "G_minimum_for_all_j = partitioning_choice()\n",
    "\n",
    "print G_minimum_for_all_j.G\n",
    "print G_minimum_for_all_j.j\n",
    "print G_minimum_for_all_j.t"
   ]
  },
  {
   "cell_type": "code",
   "execution_count": 159,
   "metadata": {
    "collapsed": true
   },
   "outputs": [],
   "source": [
    "class Node:\n",
    "        def __init__(self, j, t, y_left = -1.0, y_right = -1.0,  child_left = -1.0, child_right = -1.0):\n",
    "            self.j = j\n",
    "            self.t = t\n",
    "            self.y_left = y_left\n",
    "            self.y_right = y_right\n",
    "            #special values: -1 it's leaf\n",
    "            self.child_left = child_left\n",
    "            self.child_right = child_right"
   ]
  },
  {
   "cell_type": "code",
   "execution_count": 149,
   "metadata": {
    "collapsed": false
   },
   "outputs": [],
   "source": [
    "#Реализуйте свой класс DecisionTree, имеющий методы fit и predict\n",
    "#позволяющие соответственно обучить решающее дерево по матрице признаков X_train и ответам y_train, а затем\n",
    "#спрогнозировать ответы на тестовой выборке X_test.\n",
    "\n",
    "class DecisionTree():\n",
    "    def __init__(self, tau = 1e-1):\n",
    "        self.tau = tau\n",
    "        self.k = 0.\n",
    "        self.Tree = []\n",
    "        \n",
    "    def fit(self, train_data, train_y):\n",
    "        self.amount_features = len(train_data[0])\n",
    "        \n",
    "        #partition choice\n",
    "        G_minimum_for_all_j = []\n",
    "        for j in range(self.amount_features): \n",
    "            N = 20\n",
    "            #found bound's value of feature_j in columns\n",
    "            column = [train_data[i][j] for i in range(len(train_data))]\n",
    "            min_f = min(column)\n",
    "            max_f = max(column)\n",
    "            #divide the segments at the points at which we will compare\n",
    "            dots_sequence = np.linspace(min_f, max_f, N)\n",
    "            #find the minimum G-function for each characteristic\n",
    "            G_by_current_j = []\n",
    "            for t in dots_sequence:\n",
    "                L_part = []\n",
    "                R_part = []\n",
    "                #go through each element and find mse\n",
    "                for i in range(len(column)):\n",
    "                    if (train_data[i][j] < t):\n",
    "                        L_part.append(train_y[i])\n",
    "                    else:\n",
    "                        R_part.append(train_y[i])\n",
    "                #for this t count G(j,t)\n",
    "                if (len(L_part) > 0):\n",
    "                    H_L = func_mse(L_part, np.ones(len(L_part)) * np.mean(L_part))\n",
    "                else:\n",
    "                    H_L = 0.\n",
    "                if (len(R_part) > 0):\n",
    "                    H_R = func_mse(R_part, np.ones(len(R_part)) * np.mean(R_part))\n",
    "                else:\n",
    "                    H_R = 0.\n",
    "                G_by_current_j.append(G_class(float(len(L_part))/len(train_y) * H_L + float(len(R_part))/len(train_y) * H_R, j, t))\n",
    "            G_minimum_for_all_j.append(min_G(G_by_current_j))\n",
    "        G_minimum = min_G(G_minimum_for_all_j)           \n",
    "        \n",
    "        #partition data\n",
    "        j_current = G_minimum.j\n",
    "        t_current = G_minimum.t\n",
    "        sample1 = []\n",
    "        target1 = []\n",
    "        sample2 = []\n",
    "        target2 = []\n",
    "        for t in range(len(train_data)):\n",
    "            if (train_data[t][j_current] < t_current):\n",
    "                #print 'yes'\n",
    "                sample1.append(train_data[t])\n",
    "                target1.append(train_y[t])\n",
    "            else:\n",
    "                sample2.append(train_data[t])\n",
    "                target2.append(train_y[t])\n",
    "        if (len(target1) < 0) or (len(target2) < 0) or (abs(y_left - y_right) < self.tau):\n",
    "            self.Tree.append(Node(j_current, t_current, np.mean(train_y), np.mean(train_y)))\n",
    "        else:\n",
    "            y_left = np.mean(target1)\n",
    "            y_right = np.mean(target2)\n",
    "            child_left = self.fit(sample1, target1)\n",
    "            child_right = self.fit(sample2, target2)\n",
    "            self.Tree.append(Node(j_current, t_current, y_left, y_right, child_left, child_right))\n",
    "        return len(self.Tree) - 1\n",
    "     \n",
    "    def predict_local(self, test_data, iterator = len(Tree1.Tree) - 1):\n",
    "        current_node = self.Tree[iterator]\n",
    "        if (test_data[current_node.j] < current_node.t):\n",
    "            if (child_left == -2)\n",
    "    \n",
    "    \n",
    "    def predict(self, test_data):\n",
    "        res = []\n",
    "        for i in range(len(test_data)):\n",
    "            res.append(predict_local(test_data[i]))\n",
    "        return res\n",
    "        \n",
    "        "
   ]
  },
  {
   "cell_type": "code",
   "execution_count": 150,
   "metadata": {
    "collapsed": false
   },
   "outputs": [
    {
     "name": "stdout",
     "output_type": "stream",
     "text": [
      "697\n"
     ]
    }
   ],
   "source": [
    "Tree1 = DecisionTree()\n",
    "Tree1.fit(train_data, train_y)\n",
    "print len(Tree1.Tree)"
   ]
  },
  {
   "cell_type": "code",
   "execution_count": 158,
   "metadata": {
    "collapsed": false
   },
   "outputs": [
    {
     "name": "stdout",
     "output_type": "stream",
     "text": [
      "322 695\n",
      "12 11.2668421053\n"
     ]
    }
   ],
   "source": [
    "print Tree1.Tree[len(Tree1.Tree) - 1].child_left, Tree1.Tree[len(Tree1.Tree) - 1].child_right\n",
    "print Tree1.Tree[len(Tree1.Tree) - 1].j, Tree1.Tree[len(Tree1.Tree) - 1].t"
   ]
  },
  {
   "cell_type": "code",
   "execution_count": null,
   "metadata": {
    "collapsed": true
   },
   "outputs": [],
   "source": []
  }
 ],
 "metadata": {
  "kernelspec": {
   "display_name": "Python 2",
   "language": "python",
   "name": "python2"
  },
  "language_info": {
   "codemirror_mode": {
    "name": "ipython",
    "version": 2
   },
   "file_extension": ".py",
   "mimetype": "text/x-python",
   "name": "python",
   "nbconvert_exporter": "python",
   "pygments_lexer": "ipython2",
   "version": "2.7.13"
  }
 },
 "nbformat": 4,
 "nbformat_minor": 2
}
