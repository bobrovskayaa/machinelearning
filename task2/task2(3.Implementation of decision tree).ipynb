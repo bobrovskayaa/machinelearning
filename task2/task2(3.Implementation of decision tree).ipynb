{
 "cells": [
  {
   "cell_type": "markdown",
   "metadata": {},
   "source": [
    "Бобровская Наталия, 491 группа"
   ]
  },
  {
   "cell_type": "markdown",
   "metadata": {},
   "source": [
    "$\\textbf{3 Реализация решающего дерева (опциональная часть)}$"
   ]
  },
  {
   "cell_type": "code",
   "execution_count": 169,
   "metadata": {
    "collapsed": false
   },
   "outputs": [],
   "source": [
    "import numpy as np\n",
    "import pydotplus\n",
    "import matplotlib.pyplot as plt\n",
    "\n",
    "from sklearn import cross_validation, datasets, metrics, neighbors \n",
    "from sklearn.metrics import mean_squared_error"
   ]
  },
  {
   "cell_type": "code",
   "execution_count": 170,
   "metadata": {
    "collapsed": true
   },
   "outputs": [],
   "source": [
    "boston = datasets.load_boston()"
   ]
  },
  {
   "cell_type": "code",
   "execution_count": 171,
   "metadata": {
    "collapsed": false
   },
   "outputs": [
    {
     "name": "stdout",
     "output_type": "stream",
     "text": [
      "['data', 'feature_names', 'DESCR', 'target']\n",
      "['CRIM' 'ZN' 'INDUS' 'CHAS' 'NOX' 'RM' 'AGE' 'DIS' 'RAD' 'TAX' 'PTRATIO'\n",
      " 'B' 'LSTAT']\n",
      "13\n"
     ]
    }
   ],
   "source": [
    "print boston.keys()\n",
    "print boston.feature_names\n",
    "print len(boston.feature_names)"
   ]
  },
  {
   "cell_type": "code",
   "execution_count": 172,
   "metadata": {
    "collapsed": false
   },
   "outputs": [
    {
     "name": "stdout",
     "output_type": "stream",
     "text": [
      "[  6.32000000e-03   1.80000000e+01   2.31000000e+00   0.00000000e+00\n",
      "   5.38000000e-01   6.57500000e+00   6.52000000e+01   4.09000000e+00\n",
      "   1.00000000e+00   2.96000000e+02   1.53000000e+01   3.96900000e+02\n",
      "   4.98000000e+00]\n",
      "13\n"
     ]
    }
   ],
   "source": [
    "print boston.data[0]\n",
    "print len(boston.data[0])"
   ]
  },
  {
   "cell_type": "code",
   "execution_count": 173,
   "metadata": {
    "collapsed": false
   },
   "outputs": [
    {
     "name": "stdout",
     "output_type": "stream",
     "text": [
      "5.0\n",
      "50.0\n"
     ]
    }
   ],
   "source": [
    "print min(boston.target)\n",
    "print max(boston.target)"
   ]
  },
  {
   "cell_type": "markdown",
   "metadata": {},
   "source": [
    "В Бостон содержатся классы от 5.0 до 50.0 с шагом 0.1, считаем, что их 450"
   ]
  },
  {
   "cell_type": "code",
   "execution_count": 174,
   "metadata": {
    "collapsed": false
   },
   "outputs": [
    {
     "name": "stdout",
     "output_type": "stream",
     "text": [
      "0.25\n",
      "0.75\n",
      "13\n"
     ]
    }
   ],
   "source": [
    "#Оставьте последние 25% объектов для контроля качества, разделив X и y на X_train, y_train и X_test, y_test.\n",
    "#I give them more convinient names\n",
    "\n",
    "train_data, test_data, train_y, test_y = cross_validation.train_test_split(boston.data, boston.target, \n",
    "                                                                                     test_size = 0.25, random_state = 1)\n",
    "print '{:.2f}'.format(float(len(test_data))/len(boston.data))\n",
    "print '{:.2f}'.format(float(len(train_data))/len(boston.data))\n",
    "amount_features = len(boston.feature_names)\n",
    "print amount_features"
   ]
  },
  {
   "cell_type": "code",
   "execution_count": 175,
   "metadata": {
    "collapsed": false,
    "scrolled": true
   },
   "outputs": [
    {
     "name": "stdout",
     "output_type": "stream",
     "text": [
      "[  4.52700000e-02   0.00000000e+00   1.19300000e+01   0.00000000e+00\n",
      "   5.73000000e-01   6.12000000e+00   7.67000000e+01   2.28750000e+00\n",
      "   1.00000000e+00   2.73000000e+02   2.10000000e+01   3.96900000e+02\n",
      "   9.08000000e+00]\n",
      "379\n"
     ]
    }
   ],
   "source": [
    "print(train_data[0])\n",
    "print len(train_data)"
   ]
  },
  {
   "cell_type": "code",
   "execution_count": 176,
   "metadata": {
    "collapsed": false,
    "scrolled": true
   },
   "outputs": [
    {
     "name": "stdout",
     "output_type": "stream",
     "text": [
      "[0.045269999999999998, 0.0, 11.93, 0.0, 0.57299999999999995, 6.1200000000000001, 76.700000000000003, 2.2875000000000001, 1.0, 273.0, 21.0, 396.89999999999998, 9.0800000000000001]\n"
     ]
    }
   ],
   "source": [
    "print [train_data[0][i] for i in range(len(train_data[0]))]"
   ]
  },
  {
   "cell_type": "code",
   "execution_count": 177,
   "metadata": {
    "collapsed": false
   },
   "outputs": [
    {
     "name": "stdout",
     "output_type": "stream",
     "text": [
      "379\n",
      "379\n",
      "379\n"
     ]
    }
   ],
   "source": [
    "column = [train_data[i][0] for i in range(len(train_data))]\n",
    "print(len(column))\n",
    "print(len(train_y))\n",
    "print(len(train_data))"
   ]
  },
  {
   "cell_type": "code",
   "execution_count": 178,
   "metadata": {
    "collapsed": false
   },
   "outputs": [
    {
     "data": {
      "text/plain": [
       "1"
      ]
     },
     "execution_count": 178,
     "metadata": {},
     "output_type": "execute_result"
    }
   ],
   "source": [
    "class G_class():\n",
    "    def __init__(self, G, j, t):\n",
    "        self.G = G\n",
    "        self.j = j\n",
    "        self.t = t\n",
    "        \n",
    "h = G_class(1,2,3)\n",
    "h.G"
   ]
  },
  {
   "cell_type": "code",
   "execution_count": 179,
   "metadata": {
    "collapsed": false
   },
   "outputs": [],
   "source": [
    "MAX = 100000.\n",
    "\n",
    "#the minimum search for the first element\n",
    "#current_G is array of G_class\n",
    "def min_G(current_G):\n",
    "    current_minimum = G_class(MAX, 0., 0.)\n",
    "    for j in range(len(current_G)):\n",
    "        if (current_G[j].G < current_minimum.G):\n",
    "            current_minimum.G = current_G[j].G\n",
    "            current_minimum.j = current_G[j].j\n",
    "            current_minimum.t = current_G[j].t\n",
    "    return current_minimum"
   ]
  },
  {
   "cell_type": "code",
   "execution_count": 180,
   "metadata": {
    "collapsed": true
   },
   "outputs": [],
   "source": [
    "def func_mse(y_true, y_pred):\n",
    "    return np.mean((y_true - y_pred)**2)"
   ]
  },
  {
   "cell_type": "code",
   "execution_count": 181,
   "metadata": {
    "collapsed": false
   },
   "outputs": [
    {
     "name": "stdout",
     "output_type": "stream",
     "text": [
      "66.2469336736\n",
      "0\n",
      "2\n"
     ]
    }
   ],
   "source": [
    "G_minimum_for_all_j = partitioning_choice()\n",
    "\n",
    "print G_minimum_for_all_j.G\n",
    "print G_minimum_for_all_j.j\n",
    "print G_minimum_for_all_j.t"
   ]
  },
  {
   "cell_type": "code",
   "execution_count": 182,
   "metadata": {
    "collapsed": true
   },
   "outputs": [],
   "source": [
    "class Node:\n",
    "        def __init__(self, j, t, y_left = -1.0, y_right = -1.0,  child_left = -1.0, child_right = -1.0):\n",
    "            self.j = j\n",
    "            self.t = t\n",
    "            self.y_left = y_left\n",
    "            self.y_right = y_right\n",
    "            #special values: -1 it's leaf\n",
    "            self.child_left = child_left\n",
    "            self.child_right = child_right"
   ]
  },
  {
   "cell_type": "code",
   "execution_count": 246,
   "metadata": {
    "collapsed": false
   },
   "outputs": [],
   "source": [
    "#Реализуйте свой класс DecisionTree, имеющий методы fit и predict\n",
    "#позволяющие соответственно обучить решающее дерево по матрице признаков X_train и ответам y_train, а затем\n",
    "#спрогнозировать ответы на тестовой выборке X_test.\n",
    "\n",
    "class DecisionTree():\n",
    "    def __init__(self, max_depth = 100, tau = 1e-1,):\n",
    "        self.tau = tau\n",
    "        self.Tree = []\n",
    "        self.max_depth = max_depth\n",
    "        \n",
    "    def fit(self, train_data, train_y, counter = 0):\n",
    "        if (len(train_data) == 0):\n",
    "            return len(self.Tree) - 1\n",
    "        \n",
    "        self.amount_features = len(train_data[0])\n",
    "        \n",
    "        #partition choice\n",
    "        G_minimum_for_all_j = []\n",
    "        for j in range(self.amount_features): \n",
    "            N = 20\n",
    "            #found bound's value of feature_j in columns\n",
    "            column = [train_data[i][j] for i in range(len(train_data))]\n",
    "            min_f = min(column)\n",
    "            max_f = max(column)\n",
    "            #divide the segments at the points at which we will compare\n",
    "            dots_sequence = np.linspace(min_f, max_f, N)\n",
    "            #find the minimum G-function for each characteristic\n",
    "            G_by_current_j = []\n",
    "            for t in dots_sequence:\n",
    "                L_part = []\n",
    "                R_part = []\n",
    "                #go through each element and find mse\n",
    "                for i in range(len(column)):\n",
    "                    if (train_data[i][j] < t):\n",
    "                        L_part.append(train_y[i])\n",
    "                    else:\n",
    "                        R_part.append(train_y[i])\n",
    "                #for this t count G(j,t)\n",
    "                if (len(L_part) > 0):\n",
    "                    H_L = func_mse(L_part, np.ones(len(L_part)) * np.mean(L_part))\n",
    "                else:\n",
    "                    H_L = 0.\n",
    "                if (len(R_part) > 0):\n",
    "                    H_R = func_mse(R_part, np.ones(len(R_part)) * np.mean(R_part))\n",
    "                else:\n",
    "                    H_R = 0.\n",
    "                G_by_current_j.append(G_class(float(len(L_part))/len(train_y) * H_L + float(len(R_part))/len(train_y) * H_R, j, t))\n",
    "            G_minimum_for_all_j.append(min_G(G_by_current_j))\n",
    "        G_minimum = min_G(G_minimum_for_all_j)           \n",
    "        \n",
    "        #partition data\n",
    "        j_current = G_minimum.j\n",
    "        t_current = G_minimum.t\n",
    "        sample1 = []\n",
    "        target1 = []\n",
    "        sample2 = []\n",
    "        target2 = []\n",
    "        for t in range(len(train_data)):\n",
    "            if (train_data[t][j_current] < t_current):\n",
    "                #print 'yes'\n",
    "                sample1.append(train_data[t])\n",
    "                target1.append(train_y[t])\n",
    "            else:\n",
    "                sample2.append(train_data[t])\n",
    "                target2.append(train_y[t])\n",
    "        y_left = np.mean(target1)\n",
    "        y_right = np.mean(target2)\n",
    "        if ((len(target1) == 0) or (len(target2) == 0) or (abs(y_left - y_right) < self.tau) or (counter >= self.max_depth)):\n",
    "            self.Tree.append(Node(j_current, t_current, np.mean(train_y), np.mean(train_y)))\n",
    "        else:\n",
    "            child_left = self.fit(sample1, target1, counter + 1)\n",
    "            child_right = self.fit(sample2, target2, counter + 1)\n",
    "            self.Tree.append(Node(j_current, t_current, y_left, y_right, child_left, child_right))\n",
    "        return len(self.Tree) - 1\n",
    "     \n",
    "    def predict_local(self, test_data, iterator = len(Tree1.Tree) - 1):\n",
    "        #print iterator\n",
    "        current_node = self.Tree[iterator]\n",
    "        if ((current_node.child_left == -1) or (current_node.child_right == -1)):\n",
    "            return current_node.y_left\n",
    "        else:\n",
    "            if (test_data[current_node.j] < current_node.t):\n",
    "                return self.predict_local(test_data, current_node.child_left)\n",
    "            else:\n",
    "                return self.predict_local(test_data, current_node.child_right)\n",
    "    \n",
    "    def predict(self, test_data):\n",
    "        res = []\n",
    "        for i in range(len(test_data)):\n",
    "            res.append(self.predict_local(test_data[i], 0))\n",
    "        return res"
   ]
  },
  {
   "cell_type": "markdown",
   "metadata": {},
   "source": [
    "Построим дерево, не ограничивая его глубину"
   ]
  },
  {
   "cell_type": "code",
   "execution_count": 233,
   "metadata": {
    "collapsed": false
   },
   "outputs": [
    {
     "name": "stdout",
     "output_type": "stream",
     "text": [
      "697\n"
     ]
    }
   ],
   "source": [
    "Tree1 = DecisionTree()\n",
    "Tree1.fit(train_data, train_y)\n",
    "print len(Tree1.Tree)"
   ]
  },
  {
   "cell_type": "code",
   "execution_count": 234,
   "metadata": {
    "collapsed": false
   },
   "outputs": [
    {
     "name": "stdout",
     "output_type": "stream",
     "text": [
      "322 695\n",
      "12 11.2668421053\n"
     ]
    }
   ],
   "source": [
    "print Tree1.Tree[len(Tree1.Tree) - 1].child_left, Tree1.Tree[len(Tree1.Tree) - 1].child_right\n",
    "print Tree1.Tree[len(Tree1.Tree) - 1].j, Tree1.Tree[len(Tree1.Tree) - 1].t"
   ]
  },
  {
   "cell_type": "code",
   "execution_count": 235,
   "metadata": {
    "collapsed": false
   },
   "outputs": [],
   "source": [
    "predicted = Tree1.predict(test_data)"
   ]
  },
  {
   "cell_type": "code",
   "execution_count": 241,
   "metadata": {
    "collapsed": false
   },
   "outputs": [
    {
     "data": {
      "image/png": "[encoded data removed]",
      "text/plain": [
       "<matplotlib.figure.Figure at 0x7f233ec7cd50>"
      ]
     },
     "metadata": {},
     "output_type": "display_data"
    }
   ],
   "source": [
    "plt.plot(range(len(test_y)), test_y, label='test')\n",
    "plt.plot(range(len(test_y)), predicted, label='predicted')\n",
    "plt.legend(loc='best')\n",
    "plt.show()"
   ]
  },
  {
   "cell_type": "code",
   "execution_count": 237,
   "metadata": {
    "collapsed": false
   },
   "outputs": [
    {
     "name": "stdout",
     "output_type": "stream",
     "text": [
      "127 127\n"
     ]
    }
   ],
   "source": [
    "print len(predicted), len(test_y)"
   ]
  },
  {
   "cell_type": "markdown",
   "metadata": {},
   "source": [
    "Нарисуем отнормированную разность"
   ]
  },
  {
   "cell_type": "code",
   "execution_count": 238,
   "metadata": {
    "collapsed": false
   },
   "outputs": [
    {
     "data": {
      "image/png": "[encoded data removed]",
      "text/plain": [
       "<matplotlib.figure.Figure at 0x7f233ec8fdd0>"
      ]
     },
     "metadata": {},
     "output_type": "display_data"
    }
   ],
   "source": [
    "plt.plot(range(len(test_y)), abs(test_y - predicted)/np.mean(test_y), label='test - predicted')\n",
    "plt.show()"
   ]
  },
  {
   "cell_type": "markdown",
   "metadata": {},
   "source": [
    "Ограничим глубину дерева"
   ]
  },
  {
   "cell_type": "code",
   "execution_count": 247,
   "metadata": {
    "collapsed": false
   },
   "outputs": [
    {
     "ename": "IndexError",
     "evalue": "list index out of range",
     "output_type": "error",
     "traceback": [
      "\u001b[0;31m---------------------------------------------------------------------------\u001b[0m",
      "\u001b[0;31mIndexError\u001b[0m                                Traceback (most recent call last)",
      "\u001b[0;32m<ipython-input-247-344f45c632c4>\u001b[0m in \u001b[0;36m<module>\u001b[0;34m()\u001b[0m\n\u001b[1;32m      2\u001b[0m \u001b[0;34m\u001b[0m\u001b[0m\n\u001b[1;32m      3\u001b[0m \u001b[0mplt\u001b[0m\u001b[0;34m.\u001b[0m\u001b[0mplot\u001b[0m\u001b[0;34m(\u001b[0m\u001b[0mrange\u001b[0m\u001b[0;34m(\u001b[0m\u001b[0mlen\u001b[0m\u001b[0;34m(\u001b[0m\u001b[0mtest_y\u001b[0m\u001b[0;34m)\u001b[0m\u001b[0;34m)\u001b[0m\u001b[0;34m,\u001b[0m \u001b[0mtest_y\u001b[0m\u001b[0;34m,\u001b[0m \u001b[0mlabel\u001b[0m\u001b[0;34m=\u001b[0m\u001b[0;34m'test'\u001b[0m\u001b[0;34m)\u001b[0m\u001b[0;34m\u001b[0m\u001b[0m\n\u001b[0;32m----> 4\u001b[0;31m \u001b[0mplt\u001b[0m\u001b[0;34m.\u001b[0m\u001b[0mplot\u001b[0m\u001b[0;34m(\u001b[0m\u001b[0mrange\u001b[0m\u001b[0;34m(\u001b[0m\u001b[0mlen\u001b[0m\u001b[0;34m(\u001b[0m\u001b[0mtest_y\u001b[0m\u001b[0;34m)\u001b[0m\u001b[0;34m)\u001b[0m\u001b[0;34m,\u001b[0m \u001b[0mTree2\u001b[0m\u001b[0;34m.\u001b[0m\u001b[0mpredict\u001b[0m\u001b[0;34m(\u001b[0m\u001b[0mtest_data\u001b[0m\u001b[0;34m)\u001b[0m\u001b[0;34m,\u001b[0m \u001b[0mlabel\u001b[0m\u001b[0;34m=\u001b[0m\u001b[0;34m'predicted'\u001b[0m\u001b[0;34m)\u001b[0m\u001b[0;34m\u001b[0m\u001b[0m\n\u001b[0m\u001b[1;32m      5\u001b[0m \u001b[0mplt\u001b[0m\u001b[0;34m.\u001b[0m\u001b[0mlegend\u001b[0m\u001b[0;34m(\u001b[0m\u001b[0mloc\u001b[0m\u001b[0;34m=\u001b[0m\u001b[0;34m'best'\u001b[0m\u001b[0;34m)\u001b[0m\u001b[0;34m\u001b[0m\u001b[0m\n\u001b[1;32m      6\u001b[0m \u001b[0mplt\u001b[0m\u001b[0;34m.\u001b[0m\u001b[0mshow\u001b[0m\u001b[0;34m(\u001b[0m\u001b[0;34m)\u001b[0m\u001b[0;34m\u001b[0m\u001b[0m\n",
      "\u001b[0;32m<ipython-input-246-855a2d1ab859>\u001b[0m in \u001b[0;36mpredict\u001b[0;34m(self, test_data)\u001b[0m\n\u001b[1;32m     88\u001b[0m         \u001b[0mres\u001b[0m \u001b[0;34m=\u001b[0m \u001b[0;34m[\u001b[0m\u001b[0;34m]\u001b[0m\u001b[0;34m\u001b[0m\u001b[0m\n\u001b[1;32m     89\u001b[0m         \u001b[0;32mfor\u001b[0m \u001b[0mi\u001b[0m \u001b[0;32min\u001b[0m \u001b[0mrange\u001b[0m\u001b[0;34m(\u001b[0m\u001b[0mlen\u001b[0m\u001b[0;34m(\u001b[0m\u001b[0mtest_data\u001b[0m\u001b[0;34m)\u001b[0m\u001b[0;34m)\u001b[0m\u001b[0;34m:\u001b[0m\u001b[0;34m\u001b[0m\u001b[0m\n\u001b[0;32m---> 90\u001b[0;31m             \u001b[0mres\u001b[0m\u001b[0;34m.\u001b[0m\u001b[0mappend\u001b[0m\u001b[0;34m(\u001b[0m\u001b[0mself\u001b[0m\u001b[0;34m.\u001b[0m\u001b[0mpredict_local\u001b[0m\u001b[0;34m(\u001b[0m\u001b[0mtest_data\u001b[0m\u001b[0;34m[\u001b[0m\u001b[0mi\u001b[0m\u001b[0;34m]\u001b[0m\u001b[0;34m,\u001b[0m \u001b[0;36m0\u001b[0m\u001b[0;34m)\u001b[0m\u001b[0;34m)\u001b[0m\u001b[0;34m\u001b[0m\u001b[0m\n\u001b[0m\u001b[1;32m     91\u001b[0m         \u001b[0;32mreturn\u001b[0m \u001b[0mres\u001b[0m\u001b[0;34m\u001b[0m\u001b[0m\n",
      "\u001b[0;32m<ipython-input-246-855a2d1ab859>\u001b[0m in \u001b[0;36mpredict_local\u001b[0;34m(self, test_data, iterator)\u001b[0m\n\u001b[1;32m     76\u001b[0m     \u001b[0;32mdef\u001b[0m \u001b[0mpredict_local\u001b[0m\u001b[0;34m(\u001b[0m\u001b[0mself\u001b[0m\u001b[0;34m,\u001b[0m \u001b[0mtest_data\u001b[0m\u001b[0;34m,\u001b[0m \u001b[0miterator\u001b[0m \u001b[0;34m=\u001b[0m \u001b[0mlen\u001b[0m\u001b[0;34m(\u001b[0m\u001b[0mTree1\u001b[0m\u001b[0;34m.\u001b[0m\u001b[0mTree\u001b[0m\u001b[0;34m)\u001b[0m \u001b[0;34m-\u001b[0m \u001b[0;36m1\u001b[0m\u001b[0;34m)\u001b[0m\u001b[0;34m:\u001b[0m\u001b[0;34m\u001b[0m\u001b[0m\n\u001b[1;32m     77\u001b[0m         \u001b[0;31m#print iterator\u001b[0m\u001b[0;34m\u001b[0m\u001b[0;34m\u001b[0m\u001b[0m\n\u001b[0;32m---> 78\u001b[0;31m         \u001b[0mcurrent_node\u001b[0m \u001b[0;34m=\u001b[0m \u001b[0mself\u001b[0m\u001b[0;34m.\u001b[0m\u001b[0mTree\u001b[0m\u001b[0;34m[\u001b[0m\u001b[0miterator\u001b[0m\u001b[0;34m]\u001b[0m\u001b[0;34m\u001b[0m\u001b[0m\n\u001b[0m\u001b[1;32m     79\u001b[0m         \u001b[0;32mif\u001b[0m \u001b[0;34m(\u001b[0m\u001b[0;34m(\u001b[0m\u001b[0mcurrent_node\u001b[0m\u001b[0;34m.\u001b[0m\u001b[0mchild_left\u001b[0m \u001b[0;34m==\u001b[0m \u001b[0;34m-\u001b[0m\u001b[0;36m1\u001b[0m\u001b[0;34m)\u001b[0m \u001b[0;32mor\u001b[0m \u001b[0;34m(\u001b[0m\u001b[0mcurrent_node\u001b[0m\u001b[0;34m.\u001b[0m\u001b[0mchild_right\u001b[0m \u001b[0;34m==\u001b[0m \u001b[0;34m-\u001b[0m\u001b[0;36m1\u001b[0m\u001b[0;34m)\u001b[0m\u001b[0;34m)\u001b[0m\u001b[0;34m:\u001b[0m\u001b[0;34m\u001b[0m\u001b[0m\n\u001b[1;32m     80\u001b[0m             \u001b[0;32mreturn\u001b[0m \u001b[0mcurrent_node\u001b[0m\u001b[0;34m.\u001b[0m\u001b[0my_left\u001b[0m\u001b[0;34m\u001b[0m\u001b[0m\n",
      "\u001b[0;31mIndexError\u001b[0m: list index out of range"
     ]
    }
   ],
   "source": [
    "Tree2 = DecisionTree(10)\n",
    "\n",
    "plt.plot(range(len(test_y)), test_y, label='test')\n",
    "plt.plot(range(len(test_y)), Tree2.predict(test_data), label='predicted')\n",
    "plt.legend(loc='best')\n",
    "plt.show()"
   ]
  },
  {
   "cell_type": "code",
   "execution_count": null,
   "metadata": {
    "collapsed": false
   },
   "outputs": [],
   "source": [
    "mse_depth = []\n",
    "shift = 10\n",
    "\n",
    "for i in range(20):\n",
    "    Tree_i = DecisionTree(i + shift)\n",
    "    print Tree_i.max_depth\n",
    "    predicted_i = Tree_i.predict(test_data)\n",
    "    mse_depth.append(func_mse(test_y, predicted_i))\n",
    "\n",
    "plt.plot(range(len(mse_depth)) + shift, Tree1.predict(test_data), label='mse')\n",
    "plt.legend(loc='best')\n",
    "plt.show()"
   ]
  },
  {
   "cell_type": "code",
   "execution_count": null,
   "metadata": {
    "collapsed": true
   },
   "outputs": [],
   "source": []
  },
  {
   "cell_type": "code",
   "execution_count": null,
   "metadata": {
    "collapsed": true
   },
   "outputs": [],
   "source": []
  }
 ],
 "metadata": {
  "kernelspec": {
   "display_name": "Python 2",
   "language": "python",
   "name": "python2"
  },
  "language_info": {
   "codemirror_mode": {
    "name": "ipython",
    "version": 2
   },
   "file_extension": ".py",
   "mimetype": "text/x-python",
   "name": "python",
   "nbconvert_exporter": "python",
   "pygments_lexer": "ipython2",
   "version": "2.7.13"
  }
 },
 "nbformat": 4,
 "nbformat_minor": 2
}
