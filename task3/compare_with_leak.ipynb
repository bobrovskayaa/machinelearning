{
 "cells": [
  {
   "cell_type": "code",
   "execution_count": 1,
   "metadata": {
    "collapsed": true
   },
   "outputs": [],
   "source": [
    "it = 0\n",
    "arr = []\n",
    "with open('baseline_submission_ohe2.tsv') as f:\n",
    "    for line in f:\n",
    "        it += 1\n",
    "        if (it > 1):\n",
    "            arr += [line[:-1].split(',')]"
   ]
  },
  {
   "cell_type": "code",
   "execution_count": 2,
   "metadata": {
    "collapsed": false
   },
   "outputs": [
    {
     "name": "stdout",
     "output_type": "stream",
     "text": [
      "2505.30392157\n"
     ]
    }
   ],
   "source": [
    "print float(arr[0][1])"
   ]
  },
  {
   "cell_type": "code",
   "execution_count": 3,
   "metadata": {
    "collapsed": false
   },
   "outputs": [],
   "source": [
    "it = 0\n",
    "arr2 = []\n",
    "with open('submission_example.csv') as f:\n",
    "    for line in f:\n",
    "        it += 1\n",
    "        if (it > 1):\n",
    "            arr2 += [line[:-1].split(',')]"
   ]
  },
  {
   "cell_type": "code",
   "execution_count": 4,
   "metadata": {
    "collapsed": false
   },
   "outputs": [
    {
     "name": "stdout",
     "output_type": "stream",
     "text": [
      "1497.0\n"
     ]
    }
   ],
   "source": [
    "print float(arr2[0][1])"
   ]
  },
  {
   "cell_type": "code",
   "execution_count": 5,
   "metadata": {
    "collapsed": false
   },
   "outputs": [
    {
     "name": "stdout",
     "output_type": "stream",
     "text": [
      "2184.6254902\n"
     ]
    }
   ],
   "source": [
    "it = 0\n",
    "arr3 = []\n",
    "with open('baseline_submission_rf_ohe_est17_best.tsv') as f:\n",
    "    for line in f:\n",
    "        it += 1\n",
    "        if (it > 1):\n",
    "            arr3 += [line[:-1].split(',')]\n",
    "            \n",
    "print float(arr3[0][1])"
   ]
  },
  {
   "cell_type": "code",
   "execution_count": 6,
   "metadata": {
    "collapsed": false
   },
   "outputs": [
    {
     "name": "stdout",
     "output_type": "stream",
     "text": [
      "2016 2016 2016\n"
     ]
    }
   ],
   "source": [
    "print len(arr), len(arr2), len(arr3)"
   ]
  },
  {
   "cell_type": "code",
   "execution_count": 7,
   "metadata": {
    "collapsed": false
   },
   "outputs": [
    {
     "name": "stdout",
     "output_type": "stream",
     "text": [
      "50102742.9624\n",
      "51960085.7244\n"
     ]
    }
   ],
   "source": [
    "err1 = 0.\n",
    "err2 = 0.\n",
    "for i in range(len(arr)):\n",
    "    err1 += abs(float(arr2[i][1]) - float(arr[i][1]))\n",
    "    err2 += abs(float(arr2[i][1]) - float(arr3[i][1]))\n",
    "print err1\n",
    "print err2"
   ]
  },
  {
   "cell_type": "code",
   "execution_count": null,
   "metadata": {
    "collapsed": true
   },
   "outputs": [],
   "source": []
  },
  {
   "cell_type": "code",
   "execution_count": null,
   "metadata": {
    "collapsed": true
   },
   "outputs": [],
   "source": []
  }
 ],
 "metadata": {
  "kernelspec": {
   "display_name": "Python 2",
   "language": "python",
   "name": "python2"
  },
  "language_info": {
   "codemirror_mode": {
    "name": "ipython",
    "version": 2
   },
   "file_extension": ".py",
   "mimetype": "text/x-python",
   "name": "python",
   "nbconvert_exporter": "python",
   "pygments_lexer": "ipython2",
   "version": "2.7.13"
  }
 },
 "nbformat": 4,
 "nbformat_minor": 2
}
