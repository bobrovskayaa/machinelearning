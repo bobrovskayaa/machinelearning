{
 "cells": [
  {
   "cell_type": "markdown",
   "metadata": {},
   "source": [
    "# Demand prediction baseline solution"
   ]
  },
  {
   "cell_type": "markdown",
   "metadata": {},
   "source": [
    "Victor Kantor, xead.wl@gmail.com"
   ]
  },
  {
   "cell_type": "code",
   "execution_count": 1,
   "metadata": {
    "collapsed": false
   },
   "outputs": [],
   "source": [
    "import pandas as pd\n",
    "import numpy as np\n",
    "from sklearn.ensemble import GradientBoostingRegressor\n",
    "from sklearn.model_selection import cross_val_score\n",
    "from sklearn.ensemble import RandomForestRegressor\n",
    "\n",
    "train = pd.read_csv(\"train.tsv\")\n",
    "test = pd.read_csv(\"test.tsv\")\n",
    "sample_submission = pd.read_csv(\"sample_submission.tsv\")"
   ]
  },
  {
   "cell_type": "code",
   "execution_count": 2,
   "metadata": {
    "collapsed": true
   },
   "outputs": [],
   "source": [
    "def smape(y1, y2):\n",
    "    return 1.0 * np.mean(2 * abs(y1 - y2)/(abs(y1) + abs(y2)))"
   ]
  },
  {
   "cell_type": "code",
   "execution_count": 6,
   "metadata": {
    "collapsed": false
   },
   "outputs": [
    {
     "name": "stdout",
     "output_type": "stream",
     "text": [
      "2016\n",
      "2016\n",
      "[  2.20225417e+03   2.87495217e+04   3.43324479e+05   3.09886900e+04\n",
      "   1.74166667e+01   1.58940152e+05   8.60711750e+04   7.88106375e+04\n",
      "   8.76062667e+04   2.83470167e+03]\n",
      "Empty DataFrame\n",
      "Columns: [Num, y]\n",
      "Index: []\n"
     ]
    }
   ],
   "source": [
    "model = RandomForestRegressor(n_estimators = 17, criterion='mse', min_samples_split = 3)\n",
    "iterator = (len(train)/12)*12\n",
    "train_current = train.take(np.random.permutation(iterator)[:iterator/12*12])\n",
    "X_train = train_current.drop(['Num','y'], axis = 1)\n",
    "y_train = train_current['y']\n",
    "model.fit(X_train, y_train)   \n",
    "preds = model.predict(test.drop(['Num'], axis=1))\n",
    "\n",
    "print len(preds)\n",
    "print len(sample_submission)\n",
    "print preds[:10]\n",
    "sample_submission['y'] = preds\n",
    "# In GBM you can get some negative predictions:\n",
    "print sample_submission[sample_submission['y'] < 0]\n",
    "sample_submission['y'] = sample_submission['y'].map(lambda x: x if x > 0 else 0.0)\n",
    "sample_submission.to_csv(\"baseline_submission5_RF.tsv\", sep=',', index=False)"
   ]
  },
  {
   "cell_type": "code",
   "execution_count": 7,
   "metadata": {
    "collapsed": false
   },
   "outputs": [
    {
     "name": "stdout",
     "output_type": "stream",
     "text": [
      "0.111522076835\n"
     ]
    }
   ],
   "source": [
    "X = train.drop(['Num','y'], axis = 1)\n",
    "y = train['y']\n",
    "X_test = X[(len(train)/12)*9:]\n",
    "y_test = y[(len(train)/12)*9:]      \n",
    "preds = model.predict(X_test)\n",
    "print smape(preds, y_test)"
   ]
  },
  {
   "cell_type": "code",
   "execution_count": null,
   "metadata": {
    "collapsed": true
   },
   "outputs": [],
   "source": []
  }
 ],
 "metadata": {
  "kernelspec": {
   "display_name": "Python 2",
   "language": "python",
   "name": "python2"
  },
  "language_info": {
   "codemirror_mode": {
    "name": "ipython",
    "version": 2
   },
   "file_extension": ".py",
   "mimetype": "text/x-python",
   "name": "python",
   "nbconvert_exporter": "python",
   "pygments_lexer": "ipython2",
   "version": "2.7.13"
  }
 },
 "nbformat": 4,
 "nbformat_minor": 0
}
