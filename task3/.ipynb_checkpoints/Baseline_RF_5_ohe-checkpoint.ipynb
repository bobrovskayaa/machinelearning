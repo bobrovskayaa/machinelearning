{
 "cells": [
  {
   "cell_type": "markdown",
   "metadata": {},
   "source": [
    "# Demand prediction baseline solution"
   ]
  },
  {
   "cell_type": "markdown",
   "metadata": {},
   "source": [
    "Victor Kantor, xead.wl@gmail.com"
   ]
  },
  {
   "cell_type": "code",
   "execution_count": 1,
   "metadata": {
    "collapsed": false
   },
   "outputs": [],
   "source": [
    "import pandas as pd\n",
    "import numpy as np\n",
    "from sklearn.preprocessing import OneHotEncoder\n",
    "from sklearn.model_selection import cross_val_score\n",
    "from sklearn.ensemble import RandomForestRegressor\n",
    "\n",
    "train = pd.read_csv(\"train.tsv\")\n",
    "test = pd.read_csv(\"test.tsv\")\n",
    "sample_submission = pd.read_csv(\"sample_submission.tsv\")"
   ]
  },
  {
   "cell_type": "code",
   "execution_count": 2,
   "metadata": {
    "collapsed": true
   },
   "outputs": [],
   "source": [
    "def smape(y1, y2):\n",
    "    return 1.0 * np.mean(2 * abs(y1 - y2)/(abs(y1) + abs(y2)))"
   ]
  },
  {
   "cell_type": "code",
   "execution_count": 3,
   "metadata": {
    "collapsed": false
   },
   "outputs": [],
   "source": [
    "all_data = pd.concat([train, test])\n",
    "\n",
    "ohe = OneHotEncoder(sparse=False)\n",
    "\n",
    "X = ohe.fit_transform(all_data['item_id'].values.reshape(-1, 1))\n",
    "X = pd.DataFrame(X, columns=['good = ' + str(x) for x in range(X.shape[1])])\n",
    "all_data.index = X.index\n",
    "new_all_data = pd.concat([all_data, X], axis=1)\n",
    "\n",
    "new_train_init = new_all_data.drop(['item_id', 'Num'], axis=1)[:len(train)]\n",
    "new_test = new_all_data.drop(['item_id', 'Num'], axis=1)[len(train):]\n",
    "new_test = new_test.drop(['y'], axis=1)"
   ]
  },
  {
   "cell_type": "code",
   "execution_count": 4,
   "metadata": {
    "collapsed": false
   },
   "outputs": [],
   "source": [
    "new_train = new_train_init.take(np.random.permutation(len(new_train_init)))\n",
    "new_trainX = new_train.drop(['y'], axis=1)\n",
    "new_trainy = new_train['y']"
   ]
  },
  {
   "cell_type": "code",
   "execution_count": 5,
   "metadata": {
    "collapsed": false
   },
   "outputs": [],
   "source": [
    "model = RandomForestRegressor(n_estimators = 17, criterion='mse', min_samples_split = 3)"
   ]
  },
  {
   "cell_type": "code",
   "execution_count": 6,
   "metadata": {
    "collapsed": false
   },
   "outputs": [
    {
     "data": {
      "text/plain": [
       "RandomForestRegressor(bootstrap=True, criterion='mse', max_depth=None,\n",
       "           max_features='auto', max_leaf_nodes=None,\n",
       "           min_impurity_split=1e-07, min_samples_leaf=1,\n",
       "           min_samples_split=3, min_weight_fraction_leaf=0.0,\n",
       "           n_estimators=17, n_jobs=1, oob_score=False, random_state=None,\n",
       "           verbose=0, warm_start=False)"
      ]
     },
     "execution_count": 6,
     "metadata": {},
     "output_type": "execute_result"
    }
   ],
   "source": [
    "model.fit(new_trainX, new_trainy)"
   ]
  },
  {
   "cell_type": "code",
   "execution_count": 7,
   "metadata": {
    "collapsed": false
   },
   "outputs": [
    {
     "name": "stdout",
     "output_type": "stream",
     "text": [
      "2016\n",
      "2016\n",
      "[  2.50530392e+03   2.77155196e+04   3.25545006e+05   3.50794206e+04\n",
      "   2.70098039e+01   1.44877422e+05   8.88451360e+04   8.37976527e+04\n",
      "   9.05993431e+04   2.60027941e+03]\n"
     ]
    }
   ],
   "source": [
    "preds = model.predict(new_test)\n",
    "\n",
    "print len(preds)\n",
    "print len(sample_submission)\n",
    "print preds[:10]\n",
    "sample_submission['y'] = preds\n",
    "sample_submission.to_csv(\"baseline_submission_ohe.tsv\", sep=',', index=False)"
   ]
  },
  {
   "cell_type": "code",
   "execution_count": 8,
   "metadata": {
    "collapsed": false
   },
   "outputs": [
    {
     "name": "stdout",
     "output_type": "stream",
     "text": [
      "0.0997558872748\n"
     ]
    }
   ],
   "source": [
    "preds = model.predict(new_trainX[len(new_trainX)/12*11:])\n",
    "print smape(preds, new_trainy[len(new_trainy)/12*11:])"
   ]
  },
  {
   "cell_type": "markdown",
   "metadata": {},
   "source": [
    "print smape(preds, new_trainy[len(new_trainy)/12*11:])\n",
    "\n",
    "на 20 естиматорах - 0.132268540104\n",
    "\n",
    "на 17  - 0.130200884152"
   ]
  },
  {
   "cell_type": "code",
   "execution_count": null,
   "metadata": {
    "collapsed": true
   },
   "outputs": [],
   "source": []
  }
 ],
 "metadata": {
  "kernelspec": {
   "display_name": "Python 2",
   "language": "python",
   "name": "python2"
  },
  "language_info": {
   "codemirror_mode": {
    "name": "ipython",
    "version": 2
   },
   "file_extension": ".py",
   "mimetype": "text/x-python",
   "name": "python",
   "nbconvert_exporter": "python",
   "pygments_lexer": "ipython2",
   "version": "2.7.13"
  }
 },
 "nbformat": 4,
 "nbformat_minor": 0
}
