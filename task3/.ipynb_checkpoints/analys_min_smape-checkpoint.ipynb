{
 "cells": [
  {
   "cell_type": "code",
   "execution_count": 1,
   "metadata": {
    "collapsed": false
   },
   "outputs": [],
   "source": [
    "it = 0\n",
    "arr = []\n",
    "with open('tryRF_mss3.txt') as f:\n",
    "    for line in f:\n",
    "        it += 1\n",
    "        if (it > 1):\n",
    "            arr += [line[:-1].split(' ')]"
   ]
  },
  {
   "cell_type": "code",
   "execution_count": 2,
   "metadata": {
    "collapsed": false
   },
   "outputs": [
    {
     "name": "stdout",
     "output_type": "stream",
     "text": [
      "0.267552400686\n",
      "89\n",
      "['17', '10', '9', '0.267552400686']\n",
      "0.268939095788\n",
      "179\n",
      "['20', '10', '9', '0.268939095788']\n"
     ]
    }
   ],
   "source": [
    "minimumm = 10.\n",
    "ind = 0\n",
    "for h in range(len(arr)):\n",
    "    if (float(minimumm) > float(arr[h][3])):\n",
    "        minimumm = arr[h][3]\n",
    "        ind = h\n",
    "print minimumm\n",
    "print ind\n",
    "print arr[ind]\n",
    "arr[ind][3] = 100.\n",
    "minimumm = 10.\n",
    "ind = 0\n",
    "for h in range(len(arr)):\n",
    "    if (float(minimumm) > float(arr[h][3])):\n",
    "        minimumm = arr[h][3]\n",
    "        ind = h\n",
    "print minimumm\n",
    "print ind\n",
    "print arr[ind]"
   ]
  },
  {
   "cell_type": "markdown",
   "metadata": {
    "collapsed": true
   },
   "source": [
    "1 . RandomForest, \n",
    "lb_smape = 28, my_smape = 0.30866, \n",
    "parametrs : (num_est, c, a, smape)\n",
    "['18', '9', '5', '0.308662558109']\n",
    "\n",
    "\n",
    "3 . Bagging, \n",
    "lb_smape = 29, my_smape = 0.30869, \n",
    "parametrs : (num_est, c, a, smape)\n",
    "['18', '9', '5', '0.308699860161']\n",
    "\n",
    "\n",
    "5 . RandomForest (mss = 3, num_est = 17),\n",
    "lb_smape = 25, my_smape = 0.26755, \n",
    "parametrs : (num_est, c, a, smape)\n",
    "['17', '10', '9', '0.267552400686']\n",
    "\n",
    "\n",
    "6 . RandomForest (mss = 3, num_est = 17 + ohe),\n",
    "lb_smape = 23.13"
   ]
  },
  {
   "cell_type": "code",
   "execution_count": null,
   "metadata": {
    "collapsed": true
   },
   "outputs": [],
   "source": []
  }
 ],
 "metadata": {
  "kernelspec": {
   "display_name": "Python 2",
   "language": "python",
   "name": "python2"
  },
  "language_info": {
   "codemirror_mode": {
    "name": "ipython",
    "version": 2
   },
   "file_extension": ".py",
   "mimetype": "text/x-python",
   "name": "python",
   "nbconvert_exporter": "python",
   "pygments_lexer": "ipython2",
   "version": "2.7.13"
  }
 },
 "nbformat": 4,
 "nbformat_minor": 2
}
