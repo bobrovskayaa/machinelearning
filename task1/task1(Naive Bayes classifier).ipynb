{
 "cells": [
  {
   "cell_type": "markdown",
   "metadata": {
    "collapsed": false
   },
   "source": [
    "Бобровская Наталия, 491 группа, Задание 1"
   ]
  },
  {
   "cell_type": "markdown",
   "metadata": {},
   "source": [
    "$\\textbf{2 Наивный байесовский классификатор}$\n",
    "\n",
    "20% баллов за задание, оценочное время выполнения: 40 минут\n",
    "\n",
    "Начало 00:36\n",
    "\n",
    "Конец 01:25\n",
    "\n",
    "Загрузите датасеты digits и breast_cancer из sklearn.datasets. Выведите несколько строчек из обучающих выборок и посмотрите на признаки. С помощью sklearn.model_selection.cross_val_score c настройками по умолчанию и вызова метода mean() у возвращаемого этой функцией numpy.ndarray, сравните качество работы наивных байесовских классификаторов на этих двух датасетах. \n",
    "\n",
    "Для сравнения предлагается использовать BernoulliNB, MultinomialNB и GaussianNB. Насколько полученные результаты согласуются с вашими ожиданиями?\n",
    "\n",
    "Два датасета, конечно, еще не повод делать далеко идущие выводы, но при желании вы можете продолжить исследование на других выборках (например, из UCI репозитория).\n",
    "\n",
    "Ответьте (прямо в ipynb блокноте с вашими экспериментами) на вопросы:\n",
    "\n",
    "1. Каким получилось максимальное качество классификации на датасете breast_cancer?\n",
    "\n",
    "2. Каким получилось максимальное качество классификации на датасете digits?\n",
    "\n",
    "3. Какие утверждения из приведенных ниже верны?\n",
    "\n",
    "(a) На вещественных признаках лучше всего сработал наивный байесовский классификатор с распределением Бернулли\n",
    "\n",
    "(b) На вещественных признаках лучше всего сработал наивный байесовский классификатор с мультиномиальным распределением\n",
    "\n",
    "(c) Мультиномиальное распределение лучше показало себя на выборке с целыми неотрицательными значениями признаков\n",
    "\n",
    "(d) На вещественных признаках лучше всего сработало нормальное распределение"
   ]
  },
  {
   "cell_type": "code",
   "execution_count": 12,
   "metadata": {
    "collapsed": false
   },
   "outputs": [],
   "source": [
    "import numpy as np\n",
    "import matplotlib.pyplot as plt\n",
    "\n",
    "from sklearn import cross_validation, datasets, metrics, neighbors \n",
    "from sklearn.model_selection import cross_val_score\n",
    "from sklearn.naive_bayes import GaussianNB, BernoulliNB, MultinomialNB"
   ]
  },
  {
   "cell_type": "code",
   "execution_count": 13,
   "metadata": {
    "collapsed": true
   },
   "outputs": [],
   "source": [
    "digits = datasets.load_digits()"
   ]
  },
  {
   "cell_type": "code",
   "execution_count": 14,
   "metadata": {
    "collapsed": false
   },
   "outputs": [
    {
     "data": {
      "text/plain": [
       "['images', 'data', 'target_names', 'DESCR', 'target']"
      ]
     },
     "execution_count": 14,
     "metadata": {},
     "output_type": "execute_result"
    }
   ],
   "source": [
    "digits.keys()"
   ]
  },
  {
   "cell_type": "code",
   "execution_count": 15,
   "metadata": {
    "collapsed": false
   },
   "outputs": [
    {
     "name": "stdout",
     "output_type": "stream",
     "text": [
      "1797\n",
      "images: [[[  0.   0.   5.  13.   9.   1.   0.   0.]\n",
      "  [  0.   0.  13.  15.  10.  15.   5.   0.]\n",
      "  [  0.   3.  15.   2.   0.  11.   8.   0.]\n",
      "  [  0.   4.  12.   0.   0.   8.   8.   0.]\n",
      "  [  0.   5.   8.   0.   0.   9.   8.   0.]\n",
      "  [  0.   4.  11.   0.   1.  12.   7.   0.]\n",
      "  [  0.   2.  14.   5.  10.  12.   0.   0.]\n",
      "  [  0.   0.   6.  13.  10.   0.   0.   0.]]\n",
      "\n",
      " [[  0.   0.   0.  12.  13.   5.   0.   0.]\n",
      "  [  0.   0.   0.  11.  16.   9.   0.   0.]\n",
      "  [  0.   0.   3.  15.  16.   6.   0.   0.]\n",
      "  [  0.   7.  15.  16.  16.   2.   0.   0.]\n",
      "  [  0.   0.   1.  16.  16.   3.   0.   0.]\n",
      "  [  0.   0.   1.  16.  16.   6.   0.   0.]\n",
      "  [  0.   0.   1.  16.  16.   6.   0.   0.]\n",
      "  [  0.   0.   0.  11.  16.  10.   0.   0.]]]\n",
      "data: [[  0.   0.   5.  13.   9.   1.   0.   0.   0.   0.  13.  15.  10.  15.\n",
      "    5.   0.   0.   3.  15.   2.   0.  11.   8.   0.   0.   4.  12.   0.\n",
      "    0.   8.   8.   0.   0.   5.   8.   0.   0.   9.   8.   0.   0.   4.\n",
      "   11.   0.   1.  12.   7.   0.   0.   2.  14.   5.  10.  12.   0.   0.\n",
      "    0.   0.   6.  13.  10.   0.   0.   0.]\n",
      " [  0.   0.   0.  12.  13.   5.   0.   0.   0.   0.   0.  11.  16.   9.\n",
      "    0.   0.   0.   0.   3.  15.  16.   6.   0.   0.   0.   7.  15.  16.\n",
      "   16.   2.   0.   0.   0.   0.   1.  16.  16.   3.   0.   0.   0.   0.\n",
      "    1.  16.  16.   6.   0.   0.   0.   0.   1.  16.  16.   6.   0.   0.\n",
      "    0.   0.   0.  11.  16.  10.   0.   0.]]\n",
      "target names: [0 1 2 3 4 5 6 7 8 9]\n"
     ]
    }
   ],
   "source": [
    "print len(digits.images)\n",
    "print \"images: {}\".format(digits.images[:2])\n",
    "print \"data: {}\".format(digits.data[:2])\n",
    "print \"target names: {names}\".format(names = digits.target_names)"
   ]
  },
  {
   "cell_type": "code",
   "execution_count": 16,
   "metadata": {
    "collapsed": true
   },
   "outputs": [],
   "source": [
    "breast_cancer = datasets.load_breast_cancer()"
   ]
  },
  {
   "cell_type": "code",
   "execution_count": 17,
   "metadata": {
    "collapsed": false
   },
   "outputs": [
    {
     "data": {
      "text/plain": [
       "['target_names', 'data', 'target', 'DESCR', 'feature_names']"
      ]
     },
     "execution_count": 17,
     "metadata": {},
     "output_type": "execute_result"
    }
   ],
   "source": [
    "breast_cancer.keys()"
   ]
  },
  {
   "cell_type": "code",
   "execution_count": 18,
   "metadata": {
    "collapsed": false
   },
   "outputs": [
    {
     "name": "stdout",
     "output_type": "stream",
     "text": [
      "feature names: ['mean radius' 'mean texture']\n",
      "data: [[  1.79900000e+01   1.03800000e+01   1.22800000e+02   1.00100000e+03\n",
      "    1.18400000e-01   2.77600000e-01   3.00100000e-01   1.47100000e-01\n",
      "    2.41900000e-01   7.87100000e-02   1.09500000e+00   9.05300000e-01\n",
      "    8.58900000e+00   1.53400000e+02   6.39900000e-03   4.90400000e-02\n",
      "    5.37300000e-02   1.58700000e-02   3.00300000e-02   6.19300000e-03\n",
      "    2.53800000e+01   1.73300000e+01   1.84600000e+02   2.01900000e+03\n",
      "    1.62200000e-01   6.65600000e-01   7.11900000e-01   2.65400000e-01\n",
      "    4.60100000e-01   1.18900000e-01]\n",
      " [  2.05700000e+01   1.77700000e+01   1.32900000e+02   1.32600000e+03\n",
      "    8.47400000e-02   7.86400000e-02   8.69000000e-02   7.01700000e-02\n",
      "    1.81200000e-01   5.66700000e-02   5.43500000e-01   7.33900000e-01\n",
      "    3.39800000e+00   7.40800000e+01   5.22500000e-03   1.30800000e-02\n",
      "    1.86000000e-02   1.34000000e-02   1.38900000e-02   3.53200000e-03\n",
      "    2.49900000e+01   2.34100000e+01   1.58800000e+02   1.95600000e+03\n",
      "    1.23800000e-01   1.86600000e-01   2.41600000e-01   1.86000000e-01\n",
      "    2.75000000e-01   8.90200000e-02]]\n",
      "target names: ['malignant' 'benign']\n"
     ]
    }
   ],
   "source": [
    "print \"feature names: {}\".format(breast_cancer.feature_names[:2])\n",
    "print \"data: {}\".format(breast_cancer.data[:2])\n",
    "print \"target names: {names}\".format(names = breast_cancer.target_names)"
   ]
  },
  {
   "cell_type": "code",
   "execution_count": 19,
   "metadata": {
    "collapsed": false
   },
   "outputs": [
    {
     "name": "stdout",
     "output_type": "stream",
     "text": [
      "Digits\n",
      "\n",
      "BernoulliNB 0.826\n",
      "MultinomialNB 0.871\n",
      "GaussianNB 0.819\n",
      "\n",
      "\n",
      "Breast canser\n",
      "\n",
      "BernoulliNB 0.627\n",
      "MultinomialNB 0.895\n",
      "GaussianNB 0.937\n"
     ]
    }
   ],
   "source": [
    "#С помощью sklearn.model_selection.cross_val_score c настройками по умолчанию \n",
    "#и вызова метода mean() у возвращаемого этой функцией numpy.ndarray, \n",
    "#сравните качество работы наивных байесовских классификаторов на этих двух датасетах.\n",
    "#Для сравнения предлагается использовать BernoulliNB, MultinomialNB и GaussianNB. \n",
    "\n",
    "models = [BernoulliNB(), MultinomialNB(), GaussianNB()]\n",
    "names_models = ['BernoulliNB', 'MultinomialNB', 'GaussianNB']\n",
    "\n",
    "print 'Digits\\n'\n",
    "for i in range(3):\n",
    "    print('{} {:.3f}'.format(names_models[i], np.mean(cross_val_score(models[i], digits.data, digits.target))))\n",
    "\n",
    "print '\\n'\n",
    "print 'Breast canser\\n'\n",
    "for i in range(3):\n",
    "    print('{} {:.3f}'.format(names_models[i], np.mean(cross_val_score(models[i], breast_cancer.data, breast_cancer.target))))"
   ]
  },
  {
   "cell_type": "markdown",
   "metadata": {},
   "source": [
    "$\\textbf{1 . Каким получилось максимальное качество классификации на датасете breast_cancer?}$\n",
    "\n",
    "GaussianNB 0.937\n",
    "\n",
    "$\\textbf{2 . Каким получилось максимальное качество классификации на датасете digits?}$\n",
    "\n",
    "MultinomialNB 0.871\n",
    "\n",
    "$\\textbf{3 . Какие утверждения из приведенных ниже верны?}$\n",
    "\n",
    "(d) На вещественных признаках лучше всего сработало нормальное распределение\n",
    "\n",
    "Выборка Breast cancer содержит вещественные признаки. Нормальное распределение непрерывно - при его выборе достигается наибольшая точность."
   ]
  },
  {
   "cell_type": "code",
   "execution_count": null,
   "metadata": {
    "collapsed": true
   },
   "outputs": [],
   "source": []
  }
 ],
 "metadata": {
  "kernelspec": {
   "display_name": "Python 2 (SageMath)",
   "language": "python",
   "name": "python2"
  },
  "language_info": {
   "codemirror_mode": {
    "name": "ipython",
    "version": 2
   },
   "file_extension": ".py",
   "mimetype": "text/x-python",
   "name": "python",
   "nbconvert_exporter": "python",
   "pygments_lexer": "ipython2",
   "version": "2.7.13"
  }
 },
 "nbformat": 4,
 "nbformat_minor": 0
}
