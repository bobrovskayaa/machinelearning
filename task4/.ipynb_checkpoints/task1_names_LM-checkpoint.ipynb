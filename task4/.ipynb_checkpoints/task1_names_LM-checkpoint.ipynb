{
 "cells": [
  {
   "cell_type": "code",
   "execution_count": 11,
   "metadata": {
    "collapsed": false
   },
   "outputs": [],
   "source": [
    "import pandas\n",
    "import numpy as np\n",
    "from sklearn.feature_extraction.text import CountVectorizer, TfidfVectorizer\n",
    "from sklearn.feature_extraction.text import TfidfTransformer\n",
    "from sklearn.ensemble import RandomForestClassifier\n",
    "from sklearn.model_selection import cross_val_score\n",
    "from sklearn.metrics import accuracy_score\n",
    "from sklearn.pipeline import Pipeline\n",
    "from sklearn.pipeline import make_pipeline\n",
    "from sklearn.svm import SVC, LinearSVC\n",
    "from sklearn.linear_model import LogisticRegression"
   ]
  },
  {
   "cell_type": "code",
   "execution_count": 12,
   "metadata": {
    "collapsed": false
   },
   "outputs": [
    {
     "name": "stderr",
     "output_type": "stream",
     "text": [
      "/home/natasha/anaconda2/lib/python2.7/site-packages/ipykernel/__main__.py:1: ParserWarning: Falling back to the 'python' engine because the 'c' engine does not support regex separators (separators > 1 char and different from '\\s+' are interpreted as regex); you can avoid this warning by specifying engine='python'.\n",
      "  if __name__ == '__main__':\n",
      "/home/natasha/anaconda2/lib/python2.7/site-packages/ipykernel/__main__.py:5: ParserWarning: Falling back to the 'python' engine because the 'c' engine does not support regex separators (separators > 1 char and different from '\\s+' are interpreted as regex); you can avoid this warning by specifying engine='python'.\n"
     ]
    }
   ],
   "source": [
    "data = pd.read_csv('linear_train.txt', sep=', ', names=['word', 'y'])\n",
    "train = data[(len(data)*1/5):]\n",
    "test = data[:(len(data)*1/5)]\n",
    "resultative = pd.read_csv('linear_test.txt', sep=', ', names=['word'])"
   ]
  },
  {
   "cell_type": "code",
   "execution_count": 13,
   "metadata": {
    "collapsed": true
   },
   "outputs": [],
   "source": [
    "f1 = open('tests_LM.txt', 'a')"
   ]
  },
  {
   "cell_type": "code",
   "execution_count": 14,
   "metadata": {
    "collapsed": false
   },
   "outputs": [
    {
     "name": "stdout",
     "output_type": "stream",
     "text": [
      "1 7 0.862905854172\n",
      "1 8 0.862912063133\n",
      "1 9 0.862874042913\n",
      "1 10 0.862838608233\n",
      "2 7 0.860698595886\n",
      "2 8 0.860706496945\n",
      "2 9 0.860661792775\n",
      "2 10 0.860628170655\n",
      "0.862912063133\n"
     ]
    }
   ],
   "source": [
    "my_est = 0.5\n",
    "for i in range(1,3):\n",
    "    for j in range(7,11):\n",
    "        pipeline = Pipeline([(\"vectorizer\", CountVectorizer(ngram_range=(i, j), analyzer='char_wb', binary=True)), (\"algo\", LogisticRegression())])\n",
    "        pipeline.fit(train.word, train.y)\n",
    "        preds = pipeline.predict(test.word)\n",
    "        arr = cross_val_score(pipeline, test.word, test.y, cv=5, scoring='roc_auc')\n",
    "        if (np.mean(arr) > my_est):\n",
    "            my_est = np.mean(arr)\n",
    "        print i, j, np.mean(arr)\n",
    "        f1.write(str(i) + ' ' + str(j) + ' ' + str(np.mean(arr)) + '\\n')\n",
    "print my_est"
   ]
  },
  {
   "cell_type": "code",
   "execution_count": 17,
   "metadata": {
    "collapsed": true
   },
   "outputs": [],
   "source": [
    "'''\n",
    "preds = pipeline.predict(resultative.word)\n",
    "result = pd.DataFrame({\"Answer\":preds, \"Id\":example.index})\n",
    "result.set_index('Id', inplace=True)\n",
    "result.to_csv('result.csv')'''"
   ]
  },
  {
   "cell_type": "code",
   "execution_count": null,
   "metadata": {
    "collapsed": true
   },
   "outputs": [],
   "source": []
  }
 ],
 "metadata": {
  "kernelspec": {
   "display_name": "Python 2",
   "language": "python",
   "name": "python2"
  },
  "language_info": {
   "codemirror_mode": {
    "name": "ipython",
    "version": 2
   },
   "file_extension": ".py",
   "mimetype": "text/x-python",
   "name": "python",
   "nbconvert_exporter": "python",
   "pygments_lexer": "ipython2",
   "version": "2.7.13"
  }
 },
 "nbformat": 4,
 "nbformat_minor": 2
}
