{
 "cells": [
  {
   "cell_type": "code",
   "execution_count": 1,
   "metadata": {
    "collapsed": false
   },
   "outputs": [],
   "source": [
    "import pandas as pd\n",
    "import numpy as np\n",
    "from sklearn.ensemble import RandomForestClassifier\n",
    "from sklearn.metrics import accuracy_score\n",
    "from sklearn.pipeline import Pipeline\n",
    "from sklearn.pipeline import make_pipeline\n",
    "from sklearn.feature_extraction.text import CountVectorizer\n",
    "from sklearn.model_selection import cross_val_score"
   ]
  },
  {
   "cell_type": "code",
   "execution_count": 2,
   "metadata": {
    "collapsed": false
   },
   "outputs": [
    {
     "name": "stderr",
     "output_type": "stream",
     "text": [
      "/home/natasha/anaconda2/lib/python2.7/site-packages/ipykernel/__main__.py:1: ParserWarning: Falling back to the 'python' engine because the 'c' engine does not support regex separators (separators > 1 char and different from '\\s+' are interpreted as regex); you can avoid this warning by specifying engine='python'.\n",
      "  if __name__ == '__main__':\n",
      "/home/natasha/anaconda2/lib/python2.7/site-packages/ipykernel/__main__.py:5: ParserWarning: Falling back to the 'python' engine because the 'c' engine does not support regex separators (separators > 1 char and different from '\\s+' are interpreted as regex); you can avoid this warning by specifying engine='python'.\n"
     ]
    }
   ],
   "source": [
    "data = pd.read_csv('linear_train.txt', sep=', ', names=['word', 'y'])\n",
    "data = data.take(np.random.permutation(len(data)))\n",
    "train = data[(len(data)*1/5):]\n",
    "test = data[:(len(data)*1/5)]\n",
    "resultative = pd.read_csv('linear_test.txt', sep=', ', names=['word'])"
   ]
  },
  {
   "cell_type": "code",
   "execution_count": null,
   "metadata": {
    "collapsed": true
   },
   "outputs": [],
   "source": [
    "f2 = open('tests_RF_big.txt', 'a')"
   ]
  },
  {
   "cell_type": "code",
   "execution_count": null,
   "metadata": {
    "collapsed": false
   },
   "outputs": [],
   "source": [
    "my_est = 0.5\n",
    "\n",
    "for e in [100, 500, 700]:\n",
    "    for j in range(7,10):\n",
    "        pipeline = Pipeline([(\"vectorizer\", CountVectorizer(min_df=5, ngram_range=(1, j), analyzer='char_wb')), (\"algo\", RandomForestClassifier(n_estimators=e, min_samples_split=3))]) \n",
    "        pipeline.fit(train.word, train.y)\n",
    "        preds = pipeline.predict(test.word)\n",
    "        arr = cross_val_score(pipeline, test.word, test.y, cv=5, scoring='roc_auc')\n",
    "        if (np.mean(arr) > my_est):\n",
    "            my_est = np.mean(arr)\n",
    "        print e, j, np.mean(arr)\n",
    "        f2.write(str(e) + ' ' + str(j) + ' ' + str(np.mean(arr)) + '\\n')"
   ]
  },
  {
   "cell_type": "code",
   "execution_count": null,
   "metadata": {
    "collapsed": true
   },
   "outputs": [],
   "source": []
  },
  {
   "cell_type": "code",
   "execution_count": 17,
   "metadata": {
    "collapsed": true
   },
   "outputs": [],
   "source": [
    "'''\n",
    "preds = pipeline.predict(resultative.word)\n",
    "result = pd.DataFrame({\"Answer\":preds, \"Id\":example.index})\n",
    "result.set_index('Id', inplace=True)\n",
    "result.to_csv('result.csv')'''"
   ]
  }
 ],
 "metadata": {
  "kernelspec": {
   "display_name": "Python 2",
   "language": "python",
   "name": "python2"
  },
  "language_info": {
   "codemirror_mode": {
    "name": "ipython",
    "version": 2
   },
   "file_extension": ".py",
   "mimetype": "text/x-python",
   "name": "python",
   "nbconvert_exporter": "python",
   "pygments_lexer": "ipython2",
   "version": "2.7.13"
  }
 },
 "nbformat": 4,
 "nbformat_minor": 2
}
