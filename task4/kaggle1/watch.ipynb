{
 "cells": [
  {
   "cell_type": "code",
   "execution_count": 1,
   "metadata": {
    "collapsed": false
   },
   "outputs": [],
   "source": [
    "it = 0\n",
    "arr = []\n",
    "with open('result4.csv') as f:\n",
    "    for line in f:\n",
    "        it += 1\n",
    "        if (it > 1):\n",
    "            arr.append(line.split(',')[1].split('\\n')[0])"
   ]
  },
  {
   "cell_type": "code",
   "execution_count": 2,
   "metadata": {
    "collapsed": true
   },
   "outputs": [],
   "source": [
    "it = 0\n",
    "arr2 = []\n",
    "with open('result3.csv') as f2:\n",
    "    for line in f2:\n",
    "        it += 1\n",
    "        if (it > 1):\n",
    "            arr2.append(line.split(',')[1].split('\\n')[0])"
   ]
  },
  {
   "cell_type": "code",
   "execution_count": 3,
   "metadata": {
    "collapsed": false
   },
   "outputs": [
    {
     "name": "stdout",
     "output_type": "stream",
     "text": [
      "3624\n"
     ]
    }
   ],
   "source": [
    "k = 0\n",
    "for i in range(len(arr2)):\n",
    "    if (abs(float(arr[i]) - float(arr2[i])) == 1):\n",
    "        k += 1\n",
    "print k"
   ]
  },
  {
   "cell_type": "code",
   "execution_count": 5,
   "metadata": {
    "collapsed": false
   },
   "outputs": [
    {
     "name": "stdout",
     "output_type": "stream",
     "text": [
      "13729\n"
     ]
    }
   ],
   "source": [
    "k = 0\n",
    "for i in range(len(arr2)):\n",
    "    if ((float(arr[i])) == 1):\n",
    "        k += 1\n",
    "print k"
   ]
  },
  {
   "cell_type": "code",
   "execution_count": 4,
   "metadata": {
    "collapsed": false
   },
   "outputs": [
    {
     "name": "stdout",
     "output_type": "stream",
     "text": [
      "13781\n"
     ]
    }
   ],
   "source": [
    "k = 0\n",
    "for i in range(len(arr2)):\n",
    "    if ((float(arr2[i])) == 1):\n",
    "        k += 1\n",
    "print k"
   ]
  },
  {
   "cell_type": "code",
   "execution_count": null,
   "metadata": {
    "collapsed": true
   },
   "outputs": [],
   "source": []
  }
 ],
 "metadata": {
  "kernelspec": {
   "display_name": "Python 2",
   "language": "python",
   "name": "python2"
  },
  "language_info": {
   "codemirror_mode": {
    "name": "ipython",
    "version": 2
   },
   "file_extension": ".py",
   "mimetype": "text/x-python",
   "name": "python",
   "nbconvert_exporter": "python",
   "pygments_lexer": "ipython2",
   "version": "2.7.13"
  }
 },
 "nbformat": 4,
 "nbformat_minor": 2
}
