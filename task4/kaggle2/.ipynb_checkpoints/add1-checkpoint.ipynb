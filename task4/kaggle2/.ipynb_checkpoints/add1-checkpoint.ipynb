{
 "cells": [
  {
   "cell_type": "code",
   "execution_count": 5,
   "metadata": {
    "collapsed": false
   },
   "outputs": [],
   "source": [
    "arr = []\n",
    "with open('result3.csv') as f:\n",
    "    for line in f:\n",
    "        arr.append(line.split(','))"
   ]
  },
  {
   "cell_type": "code",
   "execution_count": 6,
   "metadata": {
    "collapsed": false
   },
   "outputs": [
    {
     "name": "stdout",
     "output_type": "stream",
     "text": [
      "[['Id', 'Category\\n'], ['0', 'gettonare+V\\n'], ['1', 'incidentale+A\\n'], ['2', 'involtare+V\\n'], ['3', 'lievo+N\\n'], ['4', 'comunistizzare+V\\n'], ['5', 'vidimare+V\\n'], ['6', 'imbrodre+V\\n'], ['7', 'strillare+V\\n'], ['8', 'cifrare+V\\n']]\n"
     ]
    }
   ],
   "source": [
    "print arr[:10]"
   ]
  },
  {
   "cell_type": "code",
   "execution_count": 7,
   "metadata": {
    "collapsed": false
   },
   "outputs": [
    {
     "name": "stdout",
     "output_type": "stream",
     "text": [
      "[['Id', 'Category\\n'], [1, 'gettonare+V\\n'], [2, 'incidentale+A\\n'], [3, 'involtare+V\\n'], [4, 'lievo+N\\n'], [5, 'comunistizzare+V\\n'], [6, 'vidimare+V\\n'], [7, 'imbrodre+V\\n'], [8, 'strillare+V\\n'], [9, 'cifrare+V\\n']]\n"
     ]
    }
   ],
   "source": [
    "for i in range(1, len(arr)):\n",
    "    arr[i][0] = int(arr[i][0]) + 1\n",
    "print arr[:10]"
   ]
  },
  {
   "cell_type": "code",
   "execution_count": 8,
   "metadata": {
    "collapsed": false
   },
   "outputs": [],
   "source": [
    "f2 = open('result3_add1.csv', 'w')\n",
    "for i in range(len(arr)):\n",
    "    f2.write(str(arr[i][0])+','+str(arr[i][1]))\n",
    "f2.close()"
   ]
  },
  {
   "cell_type": "code",
   "execution_count": null,
   "metadata": {
    "collapsed": true
   },
   "outputs": [],
   "source": []
  },
  {
   "cell_type": "code",
   "execution_count": null,
   "metadata": {
    "collapsed": true
   },
   "outputs": [],
   "source": []
  }
 ],
 "metadata": {
  "kernelspec": {
   "display_name": "Python 2",
   "language": "python",
   "name": "python2"
  },
  "language_info": {
   "codemirror_mode": {
    "name": "ipython",
    "version": 2
   },
   "file_extension": ".py",
   "mimetype": "text/x-python",
   "name": "python",
   "nbconvert_exporter": "python",
   "pygments_lexer": "ipython2",
   "version": "2.7.13"
  }
 },
 "nbformat": 4,
 "nbformat_minor": 2
}
